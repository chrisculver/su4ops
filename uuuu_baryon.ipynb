{
 "cells": [
  {
   "cell_type": "code",
   "execution_count": 1,
   "metadata": {},
   "outputs": [],
   "source": [
    "%load_ext autoreload\n",
    "%autoreload 2\n",
    "\n",
    "import math\n",
    "import utils\n",
    "import su4ops.quark as Q\n",
    "import su4ops.elemental as E\n",
    "import numpy as np\n",
    "import FiniteVolumeGroups as fvg\n",
    "from su4ops.constants import NS, gammas"
   ]
  },
  {
   "cell_type": "code",
   "execution_count": 2,
   "metadata": {},
   "outputs": [],
   "source": [
    "oh = fvg.cubic.Oh()"
   ]
  },
  {
   "cell_type": "code",
   "execution_count": 9,
   "metadata": {},
   "outputs": [],
   "source": [
    "basis = []\n",
    "fullbasis = []\n",
    "extraBasis = {}\n",
    "for s0 in range(0, NS):\n",
    "  for s1 in range(0, NS):\n",
    "    for s2 in range(0, NS):\n",
    "      for s3 in range(0, NS):\n",
    "        newOp = E.Elemental(\n",
    "          1, [utils.quark(s0,0), utils.quark(s1,0), utils.quark(s2,0), utils.quark(s3,0)])\n",
    "        fullbasis.append(newOp)\n",
    "        \n",
    "        foundRelated = False\n",
    "        for b in basis:\n",
    "          if newOp.quarks in utils.permutations(b.quarks):\n",
    "            foundRelated = True\n",
    "            sign = 1\n",
    "            if not utils.arePermsEqualParity(newOp.quarks, b.quarks):\n",
    "              sign = 1\n",
    "            extraBasis[newOp] = {\n",
    "              'elemental': E.Elemental(1, b.quarks), 'sign': sign}\n",
    "        if not foundRelated:\n",
    "            basis.append(newOp)"
   ]
  },
  {
   "cell_type": "code",
   "execution_count": 10,
   "metadata": {},
   "outputs": [
    {
     "name": "stdout",
     "output_type": "stream",
     "text": [
      "35 221 256\n"
     ]
    }
   ],
   "source": [
    "print(len(basis), len(extraBasis), len(fullbasis))"
   ]
  },
  {
   "cell_type": "code",
   "execution_count": 11,
   "metadata": {},
   "outputs": [
    {
     "ename": "ValueError",
     "evalue": "<su4ops.elemental.Elemental object at 0x000002424C87F640> is not in list",
     "output_type": "error",
     "traceback": [
      "\u001b[1;31m---------------------------------------------------------------------------\u001b[0m",
      "\u001b[1;31mValueError\u001b[0m                                Traceback (most recent call last)",
      "\u001b[1;32m~\\AppData\\Local\\Temp/ipykernel_21808/749638946.py\u001b[0m in \u001b[0;36m<module>\u001b[1;34m\u001b[0m\n\u001b[0;32m      1\u001b[0m \u001b[0mrep\u001b[0m \u001b[1;33m=\u001b[0m \u001b[1;33m[\u001b[0m\u001b[1;33m]\u001b[0m\u001b[1;33m\u001b[0m\u001b[1;33m\u001b[0m\u001b[0m\n\u001b[0;32m      2\u001b[0m \u001b[1;32mfor\u001b[0m \u001b[0mg\u001b[0m \u001b[1;32min\u001b[0m \u001b[0moh\u001b[0m\u001b[1;33m.\u001b[0m\u001b[0melements\u001b[0m\u001b[1;33m:\u001b[0m\u001b[1;33m\u001b[0m\u001b[1;33m\u001b[0m\u001b[0m\n\u001b[1;32m----> 3\u001b[1;33m   \u001b[0mrep\u001b[0m\u001b[1;33m.\u001b[0m\u001b[0mappend\u001b[0m\u001b[1;33m(\u001b[0m\u001b[0mutils\u001b[0m\u001b[1;33m.\u001b[0m\u001b[0mmakeRepMat\u001b[0m\u001b[1;33m(\u001b[0m\u001b[0mbasis\u001b[0m\u001b[1;33m,\u001b[0m \u001b[0mextraBasis\u001b[0m\u001b[1;33m,\u001b[0m \u001b[0mg\u001b[0m\u001b[1;33m,\u001b[0m \u001b[0moh\u001b[0m\u001b[1;33m.\u001b[0m\u001b[0melements\u001b[0m\u001b[1;33m[\u001b[0m\u001b[1;36m0\u001b[0m\u001b[1;33m]\u001b[0m\u001b[1;33m)\u001b[0m\u001b[1;33m)\u001b[0m\u001b[1;33m\u001b[0m\u001b[1;33m\u001b[0m\u001b[0m\n\u001b[0m\u001b[0;32m      4\u001b[0m \u001b[1;33m\u001b[0m\u001b[0m\n\u001b[0;32m      5\u001b[0m \u001b[1;33m\u001b[0m\u001b[0m\n",
      "\u001b[1;32mc:\\Users\\chris\\Code\\LQCD\\su4ops\\utils.py\u001b[0m in \u001b[0;36mmakeRepMat\u001b[1;34m(basis, extraBasis, gElem, id, f1, f2)\u001b[0m\n\u001b[0;32m    130\u001b[0m   \u001b[0mrefMat\u001b[0m \u001b[1;33m=\u001b[0m \u001b[1;33m[\u001b[0m\u001b[1;33m]\u001b[0m\u001b[1;33m\u001b[0m\u001b[1;33m\u001b[0m\u001b[0m\n\u001b[0;32m    131\u001b[0m   \u001b[1;32mfor\u001b[0m \u001b[0mb\u001b[0m \u001b[1;32min\u001b[0m \u001b[0mbasis\u001b[0m\u001b[1;33m:\u001b[0m\u001b[1;33m\u001b[0m\u001b[1;33m\u001b[0m\u001b[0m\n\u001b[1;32m--> 132\u001b[1;33m     rotMat.append(fullVec_to_reduced(\n\u001b[0m\u001b[0;32m    133\u001b[0m       b.spatial_rotate(gElem), basis, extraBasis, f1, f2))\n\u001b[0;32m    134\u001b[0m     refMat.append(fullVec_to_reduced(\n",
      "\u001b[1;32mc:\\Users\\chris\\Code\\LQCD\\su4ops\\utils.py\u001b[0m in \u001b[0;36mfullVec_to_reduced\u001b[1;34m(vec, basis, extraBasis, f1, f2, f3)\u001b[0m\n\u001b[0;32m    117\u001b[0m     \u001b[1;32mreturn\u001b[0m \u001b[0msu3_fullVec_to_reduced\u001b[0m\u001b[1;33m(\u001b[0m\u001b[0mvec\u001b[0m\u001b[1;33m,\u001b[0m \u001b[0mbasis\u001b[0m\u001b[1;33m,\u001b[0m \u001b[0mextraBasis\u001b[0m\u001b[1;33m,\u001b[0m \u001b[0mf1\u001b[0m\u001b[1;33m,\u001b[0m \u001b[0mf2\u001b[0m\u001b[1;33m,\u001b[0m \u001b[0mf3\u001b[0m\u001b[1;33m)\u001b[0m\u001b[1;33m\u001b[0m\u001b[1;33m\u001b[0m\u001b[0m\n\u001b[0;32m    118\u001b[0m   \u001b[1;32melif\u001b[0m \u001b[0mNC\u001b[0m \u001b[1;33m==\u001b[0m \u001b[1;36m4\u001b[0m\u001b[1;33m:\u001b[0m\u001b[1;33m\u001b[0m\u001b[1;33m\u001b[0m\u001b[0m\n\u001b[1;32m--> 119\u001b[1;33m     \u001b[1;32mreturn\u001b[0m \u001b[0msu4_fullVec_to_reduced\u001b[0m\u001b[1;33m(\u001b[0m\u001b[0mvec\u001b[0m\u001b[1;33m,\u001b[0m \u001b[0mbasis\u001b[0m\u001b[1;33m,\u001b[0m \u001b[0mextraBasis\u001b[0m\u001b[1;33m)\u001b[0m\u001b[1;33m\u001b[0m\u001b[1;33m\u001b[0m\u001b[0m\n\u001b[0m\u001b[0;32m    120\u001b[0m   \u001b[1;32melse\u001b[0m\u001b[1;33m:\u001b[0m\u001b[1;33m\u001b[0m\u001b[1;33m\u001b[0m\u001b[0m\n\u001b[0;32m    121\u001b[0m     \u001b[1;32mraise\u001b[0m \u001b[0mValueError\u001b[0m\u001b[1;33m(\u001b[0m\u001b[1;34m\"Reducing NC={} vector not implemented\"\u001b[0m\u001b[1;33m.\u001b[0m\u001b[0mformat\u001b[0m\u001b[1;33m(\u001b[0m\u001b[0mNC\u001b[0m\u001b[1;33m)\u001b[0m\u001b[1;33m)\u001b[0m\u001b[1;33m\u001b[0m\u001b[1;33m\u001b[0m\u001b[0m\n",
      "\u001b[1;32mc:\\Users\\chris\\Code\\LQCD\\su4ops\\utils.py\u001b[0m in \u001b[0;36msu4_fullVec_to_reduced\u001b[1;34m(vec, basis, extraBasis)\u001b[0m\n\u001b[0;32m    105\u001b[0m       \u001b[0msign\u001b[0m \u001b[1;33m=\u001b[0m \u001b[0mextraBasis\u001b[0m\u001b[1;33m[\u001b[0m\u001b[0melemental\u001b[0m\u001b[1;33m]\u001b[0m\u001b[1;33m[\u001b[0m\u001b[1;34m'sign'\u001b[0m\u001b[1;33m]\u001b[0m\u001b[1;33m\u001b[0m\u001b[1;33m\u001b[0m\u001b[0m\n\u001b[0;32m    106\u001b[0m     \u001b[1;32melse\u001b[0m\u001b[1;33m:\u001b[0m\u001b[1;33m\u001b[0m\u001b[1;33m\u001b[0m\u001b[0m\n\u001b[1;32m--> 107\u001b[1;33m       \u001b[0mnewIdx\u001b[0m \u001b[1;33m=\u001b[0m \u001b[0mbasis\u001b[0m\u001b[1;33m.\u001b[0m\u001b[0mindex\u001b[0m\u001b[1;33m(\u001b[0m\u001b[0melemental\u001b[0m\u001b[1;33m)\u001b[0m\u001b[1;33m\u001b[0m\u001b[1;33m\u001b[0m\u001b[0m\n\u001b[0m\u001b[0;32m    108\u001b[0m \u001b[1;33m\u001b[0m\u001b[0m\n\u001b[0;32m    109\u001b[0m     \u001b[0mnewVec\u001b[0m\u001b[1;33m[\u001b[0m\u001b[0mnewIdx\u001b[0m\u001b[1;33m]\u001b[0m \u001b[1;33m+=\u001b[0m \u001b[0msign\u001b[0m\u001b[1;33m*\u001b[0m\u001b[0mval\u001b[0m\u001b[1;33m\u001b[0m\u001b[1;33m\u001b[0m\u001b[0m\n",
      "\u001b[1;31mValueError\u001b[0m: <su4ops.elemental.Elemental object at 0x000002424C87F640> is not in list"
     ]
    }
   ],
   "source": [
    "rep = []\n",
    "for g in oh.elements:\n",
    "  rep.append(utils.makeRepMat(basis, extraBasis, g, oh.elements[0]))\n",
    "\n",
    "\n",
    "metric = np.matrix([[0. for j in range(len(rep[0]))] for i in range(len(rep[0]))], dtype='complex')\n",
    "for g in rep:\n",
    "  metric += np.matmul(np.matrix(g).getH(), np.matrix(g))"
   ]
  },
  {
   "cell_type": "code",
   "execution_count": null,
   "metadata": {},
   "outputs": [],
   "source": []
  }
 ],
 "metadata": {
  "kernelspec": {
   "display_name": "Python 3.9.7 ('LQCD')",
   "language": "python",
   "name": "python3"
  },
  "language_info": {
   "codemirror_mode": {
    "name": "ipython",
    "version": 3
   },
   "file_extension": ".py",
   "mimetype": "text/x-python",
   "name": "python",
   "nbconvert_exporter": "python",
   "pygments_lexer": "ipython3",
   "version": "3.9.7"
  },
  "orig_nbformat": 4,
  "vscode": {
   "interpreter": {
    "hash": "bc10d092fd53d999667fa6c0a0e497da5d6cd5236cea8e58c3ad41d37fd15ec4"
   }
  }
 },
 "nbformat": 4,
 "nbformat_minor": 2
}
