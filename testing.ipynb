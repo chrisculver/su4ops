{
 "cells": [
  {
   "cell_type": "code",
   "execution_count": 1,
   "metadata": {},
   "outputs": [],
   "source": [
    "%load_ext autoreload\n",
    "%autoreload 2\n",
    "\n",
    "import FiniteVolumeGroups as fvg\n",
    "from su4ops.quark import Quark,Gamma,GammaProper\n",
    "from su4ops.elemental import Elemental\n",
    "from su4ops.group_rep_utils import *\n",
    "from su4ops.utils import *\n",
    "from su4ops.constants import *\n",
    "\n",
    "NC=3"
   ]
  },
  {
   "cell_type": "code",
   "execution_count": 2,
   "metadata": {},
   "outputs": [],
   "source": [
    "o2h=fvg.cubic.O2h()"
   ]
  },
  {
   "cell_type": "code",
   "execution_count": 3,
   "metadata": {},
   "outputs": [],
   "source": [
    "uQ = lambda spin : Quark({'bar': False, 'flavor': 0, 'color': 0, 'spin': spin})"
   ]
  },
  {
   "cell_type": "code",
   "execution_count": 4,
   "metadata": {},
   "outputs": [
    {
     "name": "stdout",
     "output_type": "stream",
     "text": [
      "20\n",
      "64\n",
      "{0: 0, 1: 1, 2: 2, 3: 3, 4: 1, 5: 4, 6: 5, 7: 6, 8: 2, 9: 5, 10: 7, 11: 8, 12: 3, 13: 6, 14: 8, 15: 9, 16: 1, 17: 4, 18: 5, 19: 6, 20: 4, 21: 10, 22: 11, 23: 12, 24: 5, 25: 11, 26: 13, 27: 14, 28: 6, 29: 12, 30: 14, 31: 15, 32: 2, 33: 5, 34: 7, 35: 8, 36: 5, 37: 11, 38: 13, 39: 14, 40: 7, 41: 13, 42: 16, 43: 17, 44: 8, 45: 14, 46: 17, 47: 18, 48: 3, 49: 6, 50: 8, 51: 9, 52: 6, 53: 12, 54: 14, 55: 15, 56: 8, 57: 14, 58: 17, 59: 18, 60: 9, 61: 15, 62: 18, 63: 19}\n"
     ]
    }
   ],
   "source": [
    "allSpins=[]\n",
    "basis=[]\n",
    "allSpinsToBasis={}\n",
    "basisIdx=0\n",
    "for i in range(NS**NC):\n",
    "    quarks=[]\n",
    "    tmp=i\n",
    "    for s in range(NC):\n",
    "        quarks.append(uQ(tmp%NS))\n",
    "        tmp=tmp//NS\n",
    "    # match order according to equation 4.66\n",
    "    quarks[0], quarks[2] = quarks[2], quarks[0]\n",
    "    # add the new elemental to allSpins\n",
    "    allSpins.append(Elemental(1,quarks))\n",
    "    # now check if it's already in the basis\n",
    "    perms = []\n",
    "    for p in permutations(quarks):\n",
    "        perms.append(copy.deepcopy(p))\n",
    "\n",
    "    found=False\n",
    "    for b in basis:\n",
    "        if b.quarks in perms:\n",
    "            found=True\n",
    "            foundIdx=basis.index(b)\n",
    "\n",
    "    if not found:\n",
    "        basis.append(Elemental(1,quarks))\n",
    "        allSpinsToBasis[i]=basisIdx\n",
    "        basisIdx+=1\n",
    "    else:\n",
    "        allSpinsToBasis[i]=foundIdx\n",
    "\n",
    "#for b in basis:\n",
    "    #print(b)\n",
    "    \n",
    "print(len(basis))\n",
    "print(len(allSpinsToBasis))\n",
    "print(allSpinsToBasis)"
   ]
  },
  {
   "cell_type": "code",
   "execution_count": 5,
   "metadata": {},
   "outputs": [
    {
     "name": "stdout",
     "output_type": "stream",
     "text": [
      "1*u_{a,0}*u_{a,0}*u_{a,0}\n",
      "1*u_{a,0}*u_{a,0}*u_{a,1}\n",
      "1*u_{a,0}*u_{a,0}*u_{a,2}\n",
      "1*u_{a,0}*u_{a,0}*u_{a,3}\n",
      "1*u_{a,0}*u_{a,1}*u_{a,1}\n",
      "1*u_{a,0}*u_{a,1}*u_{a,2}\n",
      "1*u_{a,0}*u_{a,1}*u_{a,3}\n",
      "1*u_{a,0}*u_{a,2}*u_{a,2}\n",
      "1*u_{a,0}*u_{a,2}*u_{a,3}\n",
      "1*u_{a,0}*u_{a,3}*u_{a,3}\n",
      "1*u_{a,1}*u_{a,1}*u_{a,1}\n",
      "1*u_{a,1}*u_{a,1}*u_{a,2}\n",
      "1*u_{a,1}*u_{a,1}*u_{a,3}\n",
      "1*u_{a,1}*u_{a,2}*u_{a,2}\n",
      "1*u_{a,1}*u_{a,2}*u_{a,3}\n",
      "1*u_{a,1}*u_{a,3}*u_{a,3}\n",
      "1*u_{a,2}*u_{a,2}*u_{a,2}\n",
      "1*u_{a,2}*u_{a,2}*u_{a,3}\n",
      "1*u_{a,2}*u_{a,3}*u_{a,3}\n",
      "1*u_{a,3}*u_{a,3}*u_{a,3}\n"
     ]
    }
   ],
   "source": [
    "for b in basis:\n",
    "    print(b)"
   ]
  },
  {
   "cell_type": "code",
   "execution_count": 6,
   "metadata": {},
   "outputs": [],
   "source": [
    "rep = []\n",
    "for g in o2h.elements:\n",
    "  rep.append(makeRepMat(g, basis, allSpinsToBasis))"
   ]
  },
  {
   "cell_type": "code",
   "execution_count": 7,
   "metadata": {},
   "outputs": [
    {
     "name": "stdout",
     "output_type": "stream",
     "text": [
      "[20, 44, 68, 92]\n",
      "[22, 46, 70, 94]\n",
      "[0, 24, 48, 72]\n"
     ]
    }
   ],
   "source": [
    "names = [elem.identifier['name'] for elem in o2h.elements]\n",
    "indices = lambda name : [i for i,x in enumerate(names) if x==name]\n",
    "print(indices(\"C4y\"))\n",
    "print(indices(\"C4z\"))\n",
    "print(indices(\"E\"))"
   ]
  },
  {
   "cell_type": "code",
   "execution_count": 8,
   "metadata": {},
   "outputs": [],
   "source": [
    "import math"
   ]
  },
  {
   "cell_type": "code",
   "execution_count": 9,
   "metadata": {},
   "outputs": [],
   "source": [
    "expectedC4z = np.array([-1+1j, 1+1j, -1+1j, 1+1j, 1-1j, 1+1j, 1-1j, -1+1j, 1+1j,\n",
    "                  1-1j, -1-1j, 1-1j, -1-1j, 1+1j, 1-1j, -1-1j, -1+1j, 1+1j, 1-1j, -1-1j])/math.sqrt(2)\n",
    "\n",
    "expectedIs = np.array([1, 1, -1, -1, 1, -1, -1, 1, 1, 1, 1, -1, -1, 1, 1, 1, -1, -1, -1, -1])\n",
    "\n",
    "expectedC4y = np.array( \n",
    "[[1,-1,0,0,1,0,0,0,0,0,-1,0,0,0,0,0,0,0,0,0],\n",
    "[3,-1,0,0,-1,0,0,0,0,0,3,0,0,0,0,0,0,0,0,0],\n",
    "[0,0,1,-1,0,-1,1,0,0,0,0,1,-1,0,0,0,0,0,0,0],\n",
    "[0,0,1,1,0,-1,-1,0,0,0,0,1,1,0,0,0,0,0,0,0],\n",
    "[3,1,0,0,-1,0,0,0,0,0,-3,0,0,0,0,0,0,0,0,0],\n",
    "[0,0,2,-2,0,0,0,0,0,0,0,-2,2,0,0,0,0,0,0,0],\n",
    "[0,0,2,2,0,0,0,0,0,0,0,-2,-2,0,0,0,0,0,0,0],\n",
    "[0,0,0,0,0,0,0,1,-1,1,0,0,0,-1,1,-1,0,0,0,0],\n",
    "[0,0,0,0,0,0,0,2,0,-2,0,0,0,-2,0,2,0,0,0,0],\n",
    "[0,0,0,0,0,0,0,1,1,1,0,0,0,-1,-1,-1,0,0,0,0],\n",
    "[1,1,0,0,1,0,0,0,0,0,1,0,0,0,0,0,0,0,0,0],\n",
    "[0,0,1,-1,0,1,-1,0,0,0,0,1,-1,0,0,0,0,0,0,0],\n",
    "[0,0,1,1,0,1,1,0,0,0,0,1,1,0,0,0,0,0,0,0],\n",
    "[0,0,0,0,0,0,0,1,-1,1,0,0,0,1,-1,1,0,0,0,0],\n",
    "[0,0,0,0,0,0,0,2,0,-2,0,0,0,2,0,-2,0,0,0,0],\n",
    "[0,0,0,0,0,0,0,1,1,1,0,0,0,1,1,1,0,0,0,0],\n",
    "[0,0,0,0,0,0,0,0,0,0,0,0,0,0,0,0,1,-1,1,-1],\n",
    "[0,0,0,0,0,0,0,0,0,0,0,0,0,0,0,0,3,-1,-1,3],\n",
    "[0,0,0,0,0,0,0,0,0,0,0,0,0,0,0,0,3,1,-1,-3],\n",
    "[0,0,0,0,0,0,0,0,0,0,0,0,0,0,0,0,1,1,1,1]]\n",
    ")/(2.0*math.sqrt(2.0))"
   ]
  },
  {
   "cell_type": "code",
   "execution_count": 10,
   "metadata": {},
   "outputs": [
    {
     "data": {
      "text/plain": [
       "False"
      ]
     },
     "execution_count": 10,
     "metadata": {},
     "output_type": "execute_result"
    }
   ],
   "source": [
    "np.allclose(np.diag(makeRepMat(o2h.elements[20], basis, allSpinsToBasis)), expectedC4y)"
   ]
  },
  {
   "cell_type": "code",
   "execution_count": 11,
   "metadata": {},
   "outputs": [
    {
     "data": {
      "text/plain": [
       "True"
      ]
     },
     "execution_count": 11,
     "metadata": {},
     "output_type": "execute_result"
    }
   ],
   "source": [
    "np.allclose(np.diag(makeRepMat(o2h.elements[22], basis, allSpinsToBasis)), expectedC4z)"
   ]
  },
  {
   "cell_type": "code",
   "execution_count": 12,
   "metadata": {},
   "outputs": [
    {
     "data": {
      "text/plain": [
       "True"
      ]
     },
     "execution_count": 12,
     "metadata": {},
     "output_type": "execute_result"
    }
   ],
   "source": [
    "np.allclose(np.diag(makeRepMat(o2h.elements[48], basis, allSpinsToBasis)), expectedIs)"
   ]
  },
  {
   "cell_type": "code",
   "execution_count": 13,
   "metadata": {},
   "outputs": [
    {
     "data": {
      "text/plain": [
       "array([[ 1.+0.j,  1.+0.j,  0.+0.j,  0.+0.j,  1.+0.j,  0.+0.j,  0.+0.j,\n",
       "         0.+0.j,  0.+0.j,  0.+0.j,  1.+0.j,  0.+0.j,  0.+0.j,  0.+0.j,\n",
       "         0.+0.j,  0.+0.j,  0.+0.j,  0.+0.j,  0.+0.j,  0.+0.j],\n",
       "       [-3.+0.j, -1.+0.j,  0.+0.j,  0.+0.j,  1.+0.j,  0.+0.j,  0.+0.j,\n",
       "         0.+0.j,  0.+0.j,  0.+0.j,  3.+0.j,  0.+0.j,  0.+0.j,  0.+0.j,\n",
       "         0.+0.j,  0.+0.j,  0.+0.j,  0.+0.j,  0.+0.j,  0.+0.j],\n",
       "       [ 0.+0.j,  0.+0.j,  1.+0.j,  1.+0.j,  0.+0.j,  1.+0.j,  1.+0.j,\n",
       "         0.+0.j,  0.+0.j,  0.+0.j,  0.+0.j,  1.+0.j,  1.+0.j,  0.+0.j,\n",
       "         0.+0.j,  0.+0.j,  0.+0.j,  0.+0.j,  0.+0.j,  0.+0.j],\n",
       "       [ 0.+0.j,  0.+0.j, -1.+0.j,  1.+0.j,  0.+0.j, -1.+0.j,  1.+0.j,\n",
       "         0.+0.j,  0.+0.j,  0.+0.j,  0.+0.j, -1.+0.j,  1.+0.j,  0.+0.j,\n",
       "         0.+0.j,  0.+0.j,  0.+0.j,  0.+0.j,  0.+0.j,  0.+0.j],\n",
       "       [ 3.+0.j, -1.+0.j,  0.+0.j,  0.+0.j, -1.+0.j,  0.+0.j,  0.+0.j,\n",
       "         0.+0.j,  0.+0.j,  0.+0.j,  3.+0.j,  0.+0.j,  0.+0.j,  0.+0.j,\n",
       "         0.+0.j,  0.+0.j,  0.+0.j,  0.+0.j,  0.+0.j,  0.+0.j],\n",
       "       [ 0.+0.j,  0.+0.j, -2.+0.j, -2.+0.j,  0.+0.j, -0.+0.j, -0.+0.j,\n",
       "         0.+0.j,  0.+0.j,  0.+0.j,  0.+0.j,  2.+0.j,  2.+0.j,  0.+0.j,\n",
       "         0.+0.j,  0.+0.j,  0.+0.j,  0.+0.j,  0.+0.j,  0.+0.j],\n",
       "       [ 0.+0.j,  0.+0.j,  2.+0.j, -2.+0.j,  0.+0.j,  0.+0.j, -0.+0.j,\n",
       "         0.+0.j,  0.+0.j,  0.+0.j,  0.+0.j, -2.+0.j,  2.+0.j,  0.+0.j,\n",
       "         0.+0.j,  0.+0.j,  0.+0.j,  0.+0.j,  0.+0.j,  0.+0.j],\n",
       "       [ 0.+0.j,  0.+0.j,  0.+0.j,  0.+0.j,  0.+0.j,  0.+0.j,  0.+0.j,\n",
       "         1.+0.j,  1.+0.j,  1.+0.j,  0.+0.j,  0.+0.j,  0.+0.j,  1.+0.j,\n",
       "         1.+0.j,  1.+0.j,  0.+0.j,  0.+0.j,  0.+0.j,  0.+0.j],\n",
       "       [ 0.+0.j,  0.+0.j,  0.+0.j,  0.+0.j,  0.+0.j,  0.+0.j,  0.+0.j,\n",
       "        -2.+0.j, -0.+0.j,  2.+0.j,  0.+0.j,  0.+0.j,  0.+0.j, -2.+0.j,\n",
       "        -0.+0.j,  2.+0.j,  0.+0.j,  0.+0.j,  0.+0.j,  0.+0.j],\n",
       "       [ 0.+0.j,  0.+0.j,  0.+0.j,  0.+0.j,  0.+0.j,  0.+0.j,  0.+0.j,\n",
       "         1.+0.j, -1.+0.j,  1.+0.j,  0.+0.j,  0.+0.j,  0.+0.j,  1.+0.j,\n",
       "        -1.+0.j,  1.+0.j,  0.+0.j,  0.+0.j,  0.+0.j,  0.+0.j],\n",
       "       [-1.+0.j,  1.+0.j,  0.+0.j,  0.+0.j, -1.+0.j,  0.+0.j,  0.+0.j,\n",
       "         0.+0.j,  0.+0.j,  0.+0.j,  1.+0.j,  0.+0.j,  0.+0.j,  0.+0.j,\n",
       "         0.+0.j,  0.+0.j,  0.+0.j,  0.+0.j,  0.+0.j,  0.+0.j],\n",
       "       [ 0.+0.j,  0.+0.j,  1.+0.j,  1.+0.j,  0.+0.j, -1.+0.j, -1.+0.j,\n",
       "         0.+0.j,  0.+0.j,  0.+0.j,  0.+0.j,  1.+0.j,  1.+0.j,  0.+0.j,\n",
       "         0.+0.j,  0.+0.j,  0.+0.j,  0.+0.j,  0.+0.j,  0.+0.j],\n",
       "       [ 0.+0.j,  0.+0.j, -1.+0.j,  1.+0.j,  0.+0.j,  1.+0.j, -1.+0.j,\n",
       "         0.+0.j,  0.+0.j,  0.+0.j,  0.+0.j, -1.+0.j,  1.+0.j,  0.+0.j,\n",
       "         0.+0.j,  0.+0.j,  0.+0.j,  0.+0.j,  0.+0.j,  0.+0.j],\n",
       "       [ 0.+0.j,  0.+0.j,  0.+0.j,  0.+0.j,  0.+0.j,  0.+0.j,  0.+0.j,\n",
       "        -1.+0.j, -1.+0.j, -1.+0.j,  0.+0.j,  0.+0.j,  0.+0.j,  1.+0.j,\n",
       "         1.+0.j,  1.+0.j,  0.+0.j,  0.+0.j,  0.+0.j,  0.+0.j],\n",
       "       [ 0.+0.j,  0.+0.j,  0.+0.j,  0.+0.j,  0.+0.j,  0.+0.j,  0.+0.j,\n",
       "         2.+0.j,  0.+0.j, -2.+0.j,  0.+0.j,  0.+0.j,  0.+0.j, -2.+0.j,\n",
       "        -0.+0.j,  2.+0.j,  0.+0.j,  0.+0.j,  0.+0.j,  0.+0.j],\n",
       "       [ 0.+0.j,  0.+0.j,  0.+0.j,  0.+0.j,  0.+0.j,  0.+0.j,  0.+0.j,\n",
       "        -1.+0.j,  1.+0.j, -1.+0.j,  0.+0.j,  0.+0.j,  0.+0.j,  1.+0.j,\n",
       "        -1.+0.j,  1.+0.j,  0.+0.j,  0.+0.j,  0.+0.j,  0.+0.j],\n",
       "       [ 0.+0.j,  0.+0.j,  0.+0.j,  0.+0.j,  0.+0.j,  0.+0.j,  0.+0.j,\n",
       "         0.+0.j,  0.+0.j,  0.+0.j,  0.+0.j,  0.+0.j,  0.+0.j,  0.+0.j,\n",
       "         0.+0.j,  0.+0.j,  1.+0.j,  1.+0.j,  1.+0.j,  1.+0.j],\n",
       "       [ 0.+0.j,  0.+0.j,  0.+0.j,  0.+0.j,  0.+0.j,  0.+0.j,  0.+0.j,\n",
       "         0.+0.j,  0.+0.j,  0.+0.j,  0.+0.j,  0.+0.j,  0.+0.j,  0.+0.j,\n",
       "         0.+0.j,  0.+0.j, -3.+0.j, -1.+0.j,  1.+0.j,  3.+0.j],\n",
       "       [ 0.+0.j,  0.+0.j,  0.+0.j,  0.+0.j,  0.+0.j,  0.+0.j,  0.+0.j,\n",
       "         0.+0.j,  0.+0.j,  0.+0.j,  0.+0.j,  0.+0.j,  0.+0.j,  0.+0.j,\n",
       "         0.+0.j,  0.+0.j,  3.+0.j, -1.+0.j, -1.+0.j,  3.+0.j],\n",
       "       [ 0.+0.j,  0.+0.j,  0.+0.j,  0.+0.j,  0.+0.j,  0.+0.j,  0.+0.j,\n",
       "         0.+0.j,  0.+0.j,  0.+0.j,  0.+0.j,  0.+0.j,  0.+0.j,  0.+0.j,\n",
       "         0.+0.j,  0.+0.j, -1.+0.j,  1.+0.j, -1.+0.j,  1.+0.j]],\n",
       "      dtype=complex64)"
      ]
     },
     "execution_count": 13,
     "metadata": {},
     "output_type": "execute_result"
    }
   ],
   "source": [
    "(makeRepMat(o2h.elements[20], basis, allSpinsToBasis)*math.sqrt(2.0)*2).round(4)"
   ]
  },
  {
   "cell_type": "code",
   "execution_count": 102,
   "metadata": {},
   "outputs": [
    {
     "name": "stdout",
     "output_type": "stream",
     "text": [
      "[ 1.+0.j -1.+0.j  0.+0.j  0.+0.j -1.+0.j  1.+0.j -0.+0.j -0.+0.j  0.+0.j\n",
      " -0.+0.j  0.+0.j  0.+0.j  0.+0.j -0.+0.j  0.+0.j  0.+0.j -1.+0.j  1.+0.j\n",
      " -0.+0.j -0.+0.j  1.+0.j -1.+0.j  0.+0.j  0.+0.j -0.+0.j  0.+0.j -0.+0.j\n",
      " -0.+0.j -0.+0.j  0.+0.j -0.+0.j -0.+0.j  0.+0.j -0.+0.j  0.+0.j  0.+0.j\n",
      " -0.+0.j  0.+0.j -0.+0.j -0.+0.j  0.+0.j -0.+0.j  0.+0.j  0.+0.j  0.+0.j\n",
      " -0.+0.j  0.+0.j  0.+0.j  0.+0.j -0.+0.j  0.+0.j  0.+0.j -0.+0.j  0.+0.j\n",
      " -0.+0.j -0.+0.j  0.+0.j -0.+0.j  0.+0.j  0.+0.j  0.+0.j -0.+0.j  0.+0.j\n",
      "  0.+0.j]\n"
     ]
    }
   ],
   "source": [
    "v=basis[0].spatial_rotate(o2h.elements[20])*2*math.sqrt(2)\n",
    "print(v)"
   ]
  },
  {
   "cell_type": "code",
   "execution_count": 100,
   "metadata": {},
   "outputs": [
    {
     "data": {
      "text/plain": [
       "array([ 0.99999994+0.j, -2.9999998 +0.j,  0.        +0.j,  0.        +0.j,\n",
       "        2.9999998 +0.j,  0.        +0.j,  0.        +0.j,  0.        +0.j,\n",
       "        0.        +0.j,  0.        +0.j, -0.99999994+0.j,  0.        +0.j,\n",
       "        0.        +0.j,  0.        +0.j,  0.        +0.j,  0.        +0.j,\n",
       "        0.        +0.j,  0.        +0.j,  0.        +0.j,  0.        +0.j],\n",
       "      dtype=complex64)"
      ]
     },
     "execution_count": 100,
     "metadata": {},
     "output_type": "execute_result"
    }
   ],
   "source": [
    "fullVec_to_reduced(v, allSpinsToBasis, len(basis))*2*math.sqrt(2)"
   ]
  },
  {
   "cell_type": "code",
   "execution_count": 105,
   "metadata": {},
   "outputs": [
    {
     "data": {
      "text/plain": [
       "array([ 0.70710678+0.j, -0.70710678+0.j,  0.        +0.j,  0.        +0.j])"
      ]
     },
     "execution_count": 105,
     "metadata": {},
     "output_type": "execute_result"
    }
   ],
   "source": [
    "uQ(0).spatial_rotate(o2h.elements[20])"
   ]
  },
  {
   "cell_type": "code",
   "execution_count": 14,
   "metadata": {},
   "outputs": [
    {
     "data": {
      "text/plain": [
       "array([[ 1.+0.j,  1.+0.j,  0.+0.j,  0.+0.j],\n",
       "       [-1.+0.j,  1.+0.j,  0.+0.j,  0.+0.j],\n",
       "       [ 0.+0.j,  0.+0.j,  1.+0.j,  1.+0.j],\n",
       "       [ 0.+0.j,  0.+0.j, -1.+0.j,  1.+0.j]])"
      ]
     },
     "execution_count": 14,
     "metadata": {},
     "output_type": "execute_result"
    }
   ],
   "source": [
    "np.eye(4)+np.matmul(gammas[3],gammas[1])"
   ]
  },
  {
   "cell_type": "code",
   "execution_count": 16,
   "metadata": {},
   "outputs": [
    {
     "data": {
      "text/plain": [
       "False"
      ]
     },
     "execution_count": 16,
     "metadata": {},
     "output_type": "execute_result"
    }
   ],
   "source": [
    "q=uQ(0)\n",
    "q.barred"
   ]
  },
  {
   "cell_type": "code",
   "execution_count": null,
   "metadata": {},
   "outputs": [],
   "source": []
  },
  {
   "cell_type": "code",
   "execution_count": 23,
   "metadata": {},
   "outputs": [],
   "source": [
    "metric = np.matrix([[0. for j in range(len(rep[0]))] for i in range(len(rep[0]))], dtype='complex')\n",
    "for g in rep:\n",
    "  metric += np.matmul(np.matrix(g).getH(), np.matrix(g))\n",
    "metric = metric/len(o2h.elements)"
   ]
  },
  {
   "cell_type": "code",
   "execution_count": 26,
   "metadata": {},
   "outputs": [
    {
     "data": {
      "text/plain": [
       "array([6.+0.j, 2.-0.j, 4.-0.j, 4.-0.j, 2.+0.j, 2.-0.j, 2.-0.j, 4.-0.j,\n",
       "       2.-0.j, 4.+0.j, 6.-0.j, 4.+0.j, 4.+0.j, 4.-0.j, 2.-0.j, 4.+0.j,\n",
       "       6.+0.j, 2.+0.j, 2.+0.j, 6.+0.j])"
      ]
     },
     "execution_count": 26,
     "metadata": {},
     "output_type": "execute_result"
    }
   ],
   "source": [
    "(np.diagonal(metric)*3).round(4)"
   ]
  },
  {
   "cell_type": "code",
   "execution_count": 41,
   "metadata": {},
   "outputs": [
    {
     "name": "stdout",
     "output_type": "stream",
     "text": [
      "0 ops in A1g\n",
      "0 ops in A2u\n",
      "0 ops in Eg\n",
      "0 ops in T1u\n",
      "0 ops in T2g\n",
      "1 ops in G1g\n",
      "0 ops in G2g\n",
      "2 ops in Hg\n",
      "0 ops in A1u\n",
      "0 ops in A2g\n",
      "0 ops in Eu\n",
      "0 ops in T1g\n",
      "0 ops in T2u\n",
      "1 ops in G1u\n",
      "0 ops in G2u\n",
      "2 ops in Hu\n",
      "20 operators across all irreps\n"
     ]
    }
   ],
   "source": [
    "tot = 0\n",
    "for irrep in o2h.elements[0].irreps:\n",
    "  ops = operators(irrep, rep, o2h)\n",
    "  tot += len(ops)*len(o2h.elements[0].irreps[irrep])\n",
    "  print(\"{} ops in {}\".format(len(ops), irrep))\n",
    "\n",
    "print(\"{} operators across all irreps\".format(tot))"
   ]
  },
  {
   "cell_type": "code",
   "execution_count": 48,
   "metadata": {},
   "outputs": [
    {
     "name": "stdout",
     "output_type": "stream",
     "text": [
      "(1+0j)*u_{a,0}*u_{a,2}*u_{a,3}+(-1+0j)*u_{a,1}*u_{a,2}*u_{a,2}+\n",
      "\n",
      "----------------------------------\n",
      "(1+0j)*u_{a,0}*u_{a,3}*u_{a,3}+(-1+0j)*u_{a,1}*u_{a,2}*u_{a,3}+\n",
      "\n"
     ]
    }
   ],
   "source": [
    "for op in operators('G1g', rep, o2h):\n",
    "  print_vec(op, basis)\n",
    "  print()\n",
    "print('----------------------------------')\n",
    "for op in operators('G1g', rep, o2h, row=1):\n",
    "  print_vec(op, basis)\n",
    "  print()"
   ]
  },
  {
   "cell_type": "code",
   "execution_count": 49,
   "metadata": {},
   "outputs": [
    {
     "name": "stdout",
     "output_type": "stream",
     "text": [
      "(1+0j)*u_{a,0}*u_{a,0}*u_{a,3}+(-1+0j)*u_{a,0}*u_{a,1}*u_{a,2}+\n",
      "\n",
      "----------------------------------\n",
      "(1+0j)*u_{a,0}*u_{a,1}*u_{a,3}+(-1+0j)*u_{a,1}*u_{a,1}*u_{a,2}+\n",
      "\n"
     ]
    }
   ],
   "source": [
    "for op in operators('G1u', rep, o2h):\n",
    "  print_vec(op, basis)\n",
    "  print()\n",
    "print('----------------------------------')\n",
    "for op in operators('G1u', rep, o2h, row=1):\n",
    "  print_vec(op, basis)\n",
    "  print()"
   ]
  },
  {
   "cell_type": "code",
   "execution_count": 50,
   "metadata": {},
   "outputs": [
    {
     "name": "stdout",
     "output_type": "stream",
     "text": [
      "(1+0j)*u_{a,0}*u_{a,0}*u_{a,0}+\n",
      "\n",
      "(1+0j)*u_{a,0}*u_{a,2}*u_{a,2}+\n",
      "\n",
      "----------------------------------\n",
      "(1+0j)*u_{a,0}*u_{a,0}*u_{a,1}+\n",
      "\n",
      "(1+0j)*u_{a,0}*u_{a,2}*u_{a,3}+(0.5001500150015001+0j)*u_{a,1}*u_{a,2}*u_{a,2}+\n",
      "\n",
      "----------------------------------\n",
      "(1+0j)*u_{a,0}*u_{a,1}*u_{a,1}+\n",
      "\n",
      "(1+0j)*u_{a,0}*u_{a,3}*u_{a,3}+(1.999400119976005+0j)*u_{a,1}*u_{a,2}*u_{a,3}+\n",
      "\n",
      "----------------------------------\n",
      "(1+0j)*u_{a,1}*u_{a,1}*u_{a,1}+\n",
      "\n",
      "(1+0j)*u_{a,1}*u_{a,3}*u_{a,3}+\n",
      "\n"
     ]
    }
   ],
   "source": [
    "for op in operators('Hg', rep, o2h):\n",
    "  print_vec(op, basis)\n",
    "  print()\n",
    "print('----------------------------------')\n",
    "for op in operators('Hg', rep, o2h, row=1):\n",
    "  print_vec(op, basis)\n",
    "  print()\n",
    "print('----------------------------------')\n",
    "for op in operators('Hg', rep, o2h, row=2):\n",
    "  print_vec(op, basis)\n",
    "  print()\n",
    "print('----------------------------------')\n",
    "for op in operators('Hg', rep, o2h, row=3):\n",
    "  print_vec(op, basis)\n",
    "  print()"
   ]
  },
  {
   "cell_type": "code",
   "execution_count": null,
   "metadata": {},
   "outputs": [],
   "source": []
  }
 ],
 "metadata": {
  "kernelspec": {
   "display_name": "Python 3.9.7 ('LQCD')",
   "language": "python",
   "name": "python3"
  },
  "language_info": {
   "codemirror_mode": {
    "name": "ipython",
    "version": 3
   },
   "file_extension": ".py",
   "mimetype": "text/x-python",
   "name": "python",
   "nbconvert_exporter": "python",
   "pygments_lexer": "ipython3",
   "version": "3.9.7"
  },
  "orig_nbformat": 4,
  "vscode": {
   "interpreter": {
    "hash": "bc10d092fd53d999667fa6c0a0e497da5d6cd5236cea8e58c3ad41d37fd15ec4"
   }
  }
 },
 "nbformat": 4,
 "nbformat_minor": 2
}
