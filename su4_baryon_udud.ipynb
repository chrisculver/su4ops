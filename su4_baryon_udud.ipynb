{
 "cells": [
  {
   "cell_type": "code",
   "execution_count": 2,
   "metadata": {},
   "outputs": [],
   "source": [
    "import math\n",
    "import utils\n",
    "import su4ops.quark as Q\n",
    "import su4ops.elemental as E\n",
    "import numpy as np\n",
    "import FiniteVolumeGroups as fvg\n",
    "from su4ops.constants import NS, gammas"
   ]
  },
  {
   "cell_type": "markdown",
   "metadata": {},
   "source": []
  },
  {
   "cell_type": "code",
   "execution_count": 3,
   "metadata": {},
   "outputs": [
    {
     "data": {
      "text/plain": [
       "48"
      ]
     },
     "execution_count": 3,
     "metadata": {},
     "output_type": "execute_result"
    }
   ],
   "source": [
    "def matPrint(mat):\n",
    "  dim = mat.shape[0]\n",
    "  s = \"\"\n",
    "  for i in range(dim):\n",
    "    for j in range(dim):\n",
    "      s += \"{}+{}i \".format(mat[i][j].real, mat[i][j].imag)\n",
    "    s += \"\\n\"\n",
    "  print(s)\n",
    "\n",
    "\n",
    "oh = fvg.cubic.Oh()\n",
    "len(oh.elements)"
   ]
  },
  {
   "cell_type": "code",
   "execution_count": null,
   "metadata": {},
   "outputs": [],
   "source": []
  },
  {
   "cell_type": "code",
   "execution_count": 4,
   "metadata": {},
   "outputs": [],
   "source": [
    "basis = []\n",
    "fullbasis = []\n",
    "extraBasis = {}\n",
    "for s0 in range(0, NS):\n",
    "  for s1 in range(0, NS):\n",
    "    for s2 in range(0, NS):\n",
    "      for s3 in range(0, NS):\n",
    "        newOp = E.Elemental(\n",
    "          1, [utils.quark(s0,0), utils.quark(s1,1), utils.quark(s2,0), utils.quark(s3,1)])\n",
    "        fullbasis.append(newOp)\n",
    "        foundRelated = False\n",
    "        for b in basis:\n",
    "          if newOp.quarks in utils.permutations(b.quarks):\n",
    "            foundRelated = True\n",
    "            sign = 1\n",
    "            if not utils.arePermsEqualParity(newOp.quarks, b.quarks):\n",
    "              sign = 1\n",
    "            extraBasis[newOp] = {\n",
    "              'elemental': E.Elemental(1, b.quarks), 'sign': sign}\n",
    "        if not foundRelated:\n",
    "            basis.append(newOp)"
   ]
  },
  {
   "cell_type": "code",
   "execution_count": 5,
   "metadata": {},
   "outputs": [
    {
     "name": "stdout",
     "output_type": "stream",
     "text": [
      "100 156 256\n"
     ]
    }
   ],
   "source": [
    "print(len(basis), len(extraBasis), len(fullbasis))"
   ]
  },
  {
   "cell_type": "code",
   "execution_count": 6,
   "metadata": {},
   "outputs": [],
   "source": [
    "rep = []\n",
    "for g in oh.elements:\n",
    "  rep.append(utils.makeRepMat(basis, extraBasis, g, oh.elements[0]))\n",
    "\n",
    "\n",
    "metric = np.matrix([[0. for j in range(len(rep[0]))] for i in range(len(rep[0]))], dtype='complex')\n",
    "for g in rep:\n",
    "  metric += np.matmul(np.matrix(g).getH(), np.matrix(g))"
   ]
  },
  {
   "cell_type": "code",
   "execution_count": 7,
   "metadata": {},
   "outputs": [
    {
     "name": "stdout",
     "output_type": "stream",
     "text": [
      "Off diagonal element is non-zero\n",
      "Off diagonal element is non-zero\n",
      "Off diagonal element is non-zero\n",
      "Off diagonal element is non-zero\n",
      "Off diagonal element is non-zero\n",
      "Off diagonal element is non-zero\n",
      "Off diagonal element is non-zero\n",
      "Off diagonal element is non-zero\n",
      "Off diagonal element is non-zero\n",
      "Off diagonal element is non-zero\n",
      "Off diagonal element is non-zero\n",
      "Off diagonal element is non-zero\n",
      "Off diagonal element is non-zero\n",
      "Off diagonal element is non-zero\n",
      "Off diagonal element is non-zero\n",
      "Off diagonal element is non-zero\n"
     ]
    },
    {
     "data": {
      "text/plain": [
       "True"
      ]
     },
     "execution_count": 7,
     "metadata": {},
     "output_type": "execute_result"
    }
   ],
   "source": [
    "for i in range(len(rep[0])):\n",
    "  for j in range(len(rep[0])):\n",
    "    if i != j and not np.isclose(metric[i, j], 0):\n",
    "      print(\"Off diagonal element is non-zero\")\n",
    "      break\n",
    "#matPrint(np.array(metric))\n",
    "\n",
    "\n",
    "fvg.representation_checks.is_valid_rep(rep)"
   ]
  },
  {
   "cell_type": "code",
   "execution_count": 8,
   "metadata": {},
   "outputs": [],
   "source": [
    "\n",
    "for bi, b in enumerate(basis):\n",
    "  for gi, elem in enumerate(oh.elements):\n",
    "    dim = len(basis)\n",
    "    lhs = utils.su4_fullVec_to_reduced(\n",
    "      b.spatial_rotate(elem), basis, extraBasis)\n",
    "    rhs = np.zeros(dim, dtype=complex)\n",
    "    bVec = np.ones(dim)\n",
    "    for j in range(dim):\n",
    "      rhs[j] += bVec[j]*rep[gi][j, bi]\n",
    "    if not np.allclose(lhs, rhs):\n",
    "      print(lhs)\n",
    "      print(rhs)\n",
    "      raise AssertionError(\n",
    "        \"not a valid rep matrix for basis element {} and group element {}\".format(bi, gi))\n"
   ]
  },
  {
   "cell_type": "code",
   "execution_count": 9,
   "metadata": {},
   "outputs": [
    {
     "name": "stdout",
     "output_type": "stream",
     "text": [
      "6 ops in A1g\n",
      "0 ops in A2u\n",
      "5 ops in Eg\n",
      "8 ops in T1u\n",
      "5 ops in T2g\n",
      "4 ops in A1u\n",
      "0 ops in A2g\n",
      "4 ops in Eu\n",
      "7 ops in T1g\n",
      "4 ops in T2u\n",
      "100 operators across all irreps\n"
     ]
    }
   ],
   "source": [
    "tot = 0\n",
    "for irrep in oh.elements[0].irreps:\n",
    "  ops = utils.operators(irrep, rep, oh)\n",
    "  tot += len(ops)*len(oh.elements[0].irreps[irrep])\n",
    "  print(\"{} ops in {}\".format(len(ops), irrep))\n",
    "\n",
    "print(\"{} operators across all irreps\".format(tot))\n"
   ]
  },
  {
   "cell_type": "code",
   "execution_count": 10,
   "metadata": {},
   "outputs": [
    {
     "name": "stdout",
     "output_type": "stream",
     "text": [
      "(1+0j)*\\bar{u}_{a,0}*\\bar{d}_{a,0}*\\bar{u}_{a,1}*\\bar{d}_{a,1}+(-0.5+0j)*\\bar{u}_{a,0}*\\bar{d}_{a,1}*\\bar{u}_{a,0}*\\bar{d}_{a,1}+(-0.5+0j)*\\bar{u}_{a,1}*\\bar{d}_{a,0}*\\bar{u}_{a,1}*\\bar{d}_{a,0}+\n",
      "\n",
      "(1+0j)*\\bar{u}_{a,0}*\\bar{d}_{a,0}*\\bar{u}_{a,3}*\\bar{d}_{a,3}+(-1+0j)*\\bar{u}_{a,0}*\\bar{d}_{a,1}*\\bar{u}_{a,3}*\\bar{d}_{a,2}+(-1+0j)*\\bar{u}_{a,1}*\\bar{d}_{a,0}*\\bar{u}_{a,2}*\\bar{d}_{a,3}+(1+0j)*\\bar{u}_{a,1}*\\bar{d}_{a,1}*\\bar{u}_{a,2}*\\bar{d}_{a,2}+\n",
      "\n",
      "(1+0j)*\\bar{u}_{a,0}*\\bar{d}_{a,1}*\\bar{u}_{a,2}*\\bar{d}_{a,3}+(-1+0j)*\\bar{u}_{a,0}*\\bar{d}_{a,1}*\\bar{u}_{a,3}*\\bar{d}_{a,2}+(-1+0j)*\\bar{u}_{a,1}*\\bar{d}_{a,0}*\\bar{u}_{a,2}*\\bar{d}_{a,3}+(1+0j)*\\bar{u}_{a,1}*\\bar{d}_{a,0}*\\bar{u}_{a,3}*\\bar{d}_{a,2}+\n",
      "\n",
      "(1+0j)*\\bar{u}_{a,0}*\\bar{d}_{a,2}*\\bar{u}_{a,1}*\\bar{d}_{a,3}+(-0.5+0j)*\\bar{u}_{a,0}*\\bar{d}_{a,3}*\\bar{u}_{a,0}*\\bar{d}_{a,3}+(-0.5+0j)*\\bar{u}_{a,1}*\\bar{d}_{a,2}*\\bar{u}_{a,1}*\\bar{d}_{a,2}+\n",
      "\n",
      "(1+0j)*\\bar{u}_{a,2}*\\bar{d}_{a,0}*\\bar{u}_{a,3}*\\bar{d}_{a,1}+(-0.5+0j)*\\bar{u}_{a,2}*\\bar{d}_{a,1}*\\bar{u}_{a,2}*\\bar{d}_{a,1}+(-0.5+0j)*\\bar{u}_{a,3}*\\bar{d}_{a,0}*\\bar{u}_{a,3}*\\bar{d}_{a,0}+\n",
      "\n",
      "(1+0j)*\\bar{u}_{a,2}*\\bar{d}_{a,2}*\\bar{u}_{a,3}*\\bar{d}_{a,3}+(-0.5+0j)*\\bar{u}_{a,2}*\\bar{d}_{a,3}*\\bar{u}_{a,2}*\\bar{d}_{a,3}+(-0.5+0j)*\\bar{u}_{a,3}*\\bar{d}_{a,2}*\\bar{u}_{a,3}*\\bar{d}_{a,2}+\n",
      "\n"
     ]
    }
   ],
   "source": [
    "for op in utils.operators('A1g', rep, oh):\n",
    "  utils.print_vec(op, basis)\n",
    "  print()"
   ]
  },
  {
   "cell_type": "code",
   "execution_count": 30,
   "metadata": {},
   "outputs": [],
   "source": [
    "import copy\n",
    "\n",
    "def print_op_to_file(vec, basis, filename):\n",
    "  f = open(filename, \"w\")\n",
    "\n",
    "  v = copy.deepcopy(basis)\n",
    "  for i in range(len(vec)):\n",
    "    v[i].coef *= vec[i]\n",
    "\n",
    "  text=\"\"\n",
    "  for i in range(len(v)):\n",
    "    if not np.isclose(v[i].coef, 0):\n",
    "        line = \"\"\n",
    "        for q in v[i].quarks:\n",
    "            line += str(q.spin) + \" \"\n",
    "        line += str(v[i].coef)\n",
    "        #print(line)\n",
    "        line += \"\\n\"\n",
    "        text += line\n",
    "  f.write(text[:-2]) # delete the last newline character\n",
    "  f.close()\n",
    "\n",
    "\n",
    "for i,op in enumerate(utils.operators('A1g', rep, oh)):\n",
    "    print_op_to_file(op, basis,\"baryon_udud_A1g_{}_.txt\".format(i))\n",
    "    \n",
    "for i,op in enumerate(utils.operators('Eg', rep, oh)):\n",
    "    print_op_to_file(op, basis,\"baryon_udud_Eg_{}_.txt\".format(i))"
   ]
  },
  {
   "cell_type": "code",
   "execution_count": 29,
   "metadata": {},
   "outputs": [
    {
     "name": "stdout",
     "output_type": "stream",
     "text": [
      "gamma_0\n",
      "0 0 1 1 (1+0j)\n",
      "0 1 0 1 (-0.5+0j)\n",
      "1 0 1 0 (-0.5+0j)\n",
      "-----------------\n",
      "gamma_1\n",
      "0 0 3 3 (1+0j)\n",
      "0 1 3 2 (-1+0j)\n",
      "1 0 2 3 (-1+0j)\n",
      "1 1 2 2 (1+0j)\n",
      "-----------------\n",
      "gamma_2\n",
      "0 1 2 3 (1+0j)\n",
      "0 1 3 2 (-1+0j)\n",
      "1 0 2 3 (-1+0j)\n",
      "1 0 3 2 (1+0j)\n",
      "-----------------\n",
      "gamma_3\n",
      "0 2 1 3 (1+0j)\n",
      "0 3 0 3 (-0.5+0j)\n",
      "1 2 1 2 (-0.5+0j)\n",
      "-----------------\n",
      "gamma_4\n",
      "2 0 3 1 (1+0j)\n",
      "2 1 2 1 (-0.5+0j)\n",
      "3 0 3 0 (-0.5+0j)\n",
      "-----------------\n",
      "gamma_5\n",
      "2 2 3 3 (1+0j)\n",
      "2 3 2 3 (-0.5+0j)\n",
      "3 2 3 2 (-0.5+0j)\n",
      "-----------------\n"
     ]
    }
   ],
   "source": [
    "def print_nonzero(vec, basis):\n",
    "\n",
    "  v = copy.deepcopy(basis)\n",
    "  for i in range(len(vec)):\n",
    "    v[i].coef *= vec[i]\n",
    "\n",
    "  text=\"\"\n",
    "  for i in range(len(v)):\n",
    "    if not np.isclose(v[i].coef, 0):\n",
    "        line = \"\"\n",
    "        for q in v[i].quarks:\n",
    "            line += str(q.spin) + \" \"\n",
    "        line += str(v[i].coef)\n",
    "        print(line)\n",
    "\n",
    "for i,op in enumerate(utils.operators('A1g', rep, oh)):\n",
    "    print(\"gamma_{}\".format(i))\n",
    "    print_nonzero(op, basis)\n",
    "    print(\"-----------------\")\n"
   ]
  },
  {
   "cell_type": "code",
   "execution_count": null,
   "metadata": {},
   "outputs": [],
   "source": []
  }
 ],
 "metadata": {
  "kernelspec": {
   "display_name": "Python 3.9.7 ('LQCD')",
   "language": "python",
   "name": "python3"
  },
  "language_info": {
   "codemirror_mode": {
    "name": "ipython",
    "version": 3
   },
   "file_extension": ".py",
   "mimetype": "text/x-python",
   "name": "python",
   "nbconvert_exporter": "python",
   "pygments_lexer": "ipython3",
   "version": "3.9.7"
  },
  "orig_nbformat": 4,
  "vscode": {
   "interpreter": {
    "hash": "bc10d092fd53d999667fa6c0a0e497da5d6cd5236cea8e58c3ad41d37fd15ec4"
   }
  }
 },
 "nbformat": 4,
 "nbformat_minor": 2
}
