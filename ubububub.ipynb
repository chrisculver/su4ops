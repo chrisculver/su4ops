{
 "cells": [
  {
   "cell_type": "code",
   "execution_count": 1,
   "metadata": {},
   "outputs": [],
   "source": [
    "%load_ext autoreload\n",
    "%autoreload 2\n",
    "\n",
    "import FiniteVolumeGroups as fvg\n",
    "from su4ops.quark import Quark,Gamma,GammaProper\n",
    "from su4ops.elemental import Elemental\n",
    "from su4ops.group_rep_utils import *\n",
    "from su4ops.utils import *\n",
    "from su4ops.constants import *\n",
    "\n",
    "NC=4"
   ]
  },
  {
   "cell_type": "code",
   "execution_count": 2,
   "metadata": {},
   "outputs": [],
   "source": [
    "oh=fvg.cubic.Oh()"
   ]
  },
  {
   "cell_type": "code",
   "execution_count": 3,
   "metadata": {},
   "outputs": [],
   "source": [
    "uQ = lambda spin : Quark({'bar': False, 'flavor': 0, 'color': 0, 'spin': spin})\n",
    "uQBar = lambda spin: Quark({'bar': True, 'flavor': 0, 'color': 0, 'spin': spin})"
   ]
  },
  {
   "cell_type": "code",
   "execution_count": 4,
   "metadata": {},
   "outputs": [
    {
     "name": "stdout",
     "output_type": "stream",
     "text": [
      "35\n",
      "256\n"
     ]
    }
   ],
   "source": [
    "allSpins=[]\n",
    "basis=[]\n",
    "allSpinsToBasis={}\n",
    "basisIdx=0\n",
    "for i in range(NS**NC):\n",
    "    quarks=[]\n",
    "    tmp=i\n",
    "    for s in range(NC):\n",
    "        quarks.append(uQBar(tmp%NS))\n",
    "        tmp=tmp//NS\n",
    "    # match order according to equation 4.66\n",
    "    quarks[0], quarks[2] = quarks[2], quarks[0]\n",
    "    # add the new elemental to allSpins\n",
    "    allSpins.append(Elemental(1,quarks))\n",
    "    # now check if it's already in the basis\n",
    "    perms = []\n",
    "    for p in permutations(quarks):\n",
    "        perms.append(copy.deepcopy(p))\n",
    "\n",
    "    found=False\n",
    "    for b in basis:\n",
    "        if b.quarks in perms:\n",
    "            found=True\n",
    "            foundIdx=basis.index(b)\n",
    "\n",
    "    if not found:\n",
    "        basis.append(Elemental(1,quarks))\n",
    "        allSpinsToBasis[i]=basisIdx\n",
    "        basisIdx+=1\n",
    "    else:\n",
    "        allSpinsToBasis[i]=foundIdx\n",
    "\n",
    "#for b in basis:\n",
    "    #print(b)\n",
    "    \n",
    "print(len(basis))\n",
    "print(len(allSpinsToBasis))\n",
    "#print(allSpinsToBasis)"
   ]
  },
  {
   "cell_type": "code",
   "execution_count": 5,
   "metadata": {},
   "outputs": [],
   "source": [
    "rep = []\n",
    "for g in oh.elements:\n",
    "  rep.append(makeRepMat(g, basis, allSpinsToBasis))"
   ]
  },
  {
   "cell_type": "code",
   "execution_count": 6,
   "metadata": {},
   "outputs": [
    {
     "data": {
      "text/plain": [
       "True"
      ]
     },
     "execution_count": 6,
     "metadata": {},
     "output_type": "execute_result"
    }
   ],
   "source": [
    "fvg.representation_checks.is_valid_rep(rep)"
   ]
  },
  {
   "cell_type": "code",
   "execution_count": 7,
   "metadata": {},
   "outputs": [],
   "source": [
    "metric = np.matrix([[0. for j in range(len(rep[0]))] for i in range(len(rep[0]))], dtype='complex')\n",
    "for g in rep:\n",
    "  metric += np.matmul(np.matrix(g).getH(), np.matrix(g))\n",
    "metric = (metric/len(oh.elements)).round(8)"
   ]
  },
  {
   "cell_type": "code",
   "execution_count": 8,
   "metadata": {},
   "outputs": [
    {
     "data": {
      "text/plain": [
       "8"
      ]
     },
     "execution_count": 8,
     "metadata": {},
     "output_type": "execute_result"
    }
   ],
   "source": [
    "np.count_nonzero(metric - np.diag(np.diagonal(metric)))"
   ]
  },
  {
   "cell_type": "code",
   "execution_count": 9,
   "metadata": {},
   "outputs": [
    {
     "data": {
      "text/plain": [
       "(35, 35)"
      ]
     },
     "execution_count": 9,
     "metadata": {},
     "output_type": "execute_result"
    }
   ],
   "source": [
    "metric.shape"
   ]
  },
  {
   "cell_type": "code",
   "execution_count": 10,
   "metadata": {},
   "outputs": [
    {
     "name": "stdout",
     "output_type": "stream",
     "text": [
      "0,20\n",
      "7,25\n",
      "9,23\n",
      "20,0\n",
      "23,9\n",
      "25,7\n",
      "30,34\n",
      "34,30\n"
     ]
    }
   ],
   "source": [
    "for i,row in enumerate(np.array(metric)):\n",
    "    for j,val in enumerate(row):\n",
    "        if not i==j and not np.isclose(0.0,val):\n",
    "            print(\"{},{}\".format(i,j))\n"
   ]
  },
  {
   "cell_type": "code",
   "execution_count": 11,
   "metadata": {},
   "outputs": [
    {
     "data": {
      "text/plain": [
       "(0.25+0j)"
      ]
     },
     "execution_count": 11,
     "metadata": {},
     "output_type": "execute_result"
    }
   ],
   "source": [
    "metric[0,20]"
   ]
  },
  {
   "cell_type": "code",
   "execution_count": 12,
   "metadata": {},
   "outputs": [
    {
     "name": "stdout",
     "output_type": "stream",
     "text": [
      "1 ops in A1g\n",
      "0 ops in A2u\n",
      "3 ops in Eg\n",
      "2 ops in T1u\n",
      "3 ops in T2g\n",
      "0 ops in A1u\n",
      "0 ops in A2g\n",
      "2 ops in Eu\n",
      "1 ops in T1g\n",
      "2 ops in T2u\n",
      "35 operators across all irreps\n"
     ]
    }
   ],
   "source": [
    "tot = 0\n",
    "for irrep in oh.elements[0].irreps:\n",
    "  ops = operators(irrep, rep, oh)\n",
    "  tot += len(ops)*len(oh.elements[0].irreps[irrep])\n",
    "  print(\"{} ops in {}\".format(len(ops), irrep))\n",
    "\n",
    "print(\"{} operators across all irreps\".format(tot))"
   ]
  },
  {
   "cell_type": "code",
   "execution_count": 13,
   "metadata": {},
   "outputs": [
    {
     "name": "stdout",
     "output_type": "stream",
     "text": [
      "(1+0j)*\\bar{u}_{a,0}*\\bar{u}_{a,3}*\\bar{u}_{a,3}*\\bar{u}_{a,0}+(-2+0j)*\\bar{u}_{a,1}*\\bar{u}_{a,2}*\\bar{u}_{a,3}*\\bar{u}_{a,0}+(1+0j)*\\bar{u}_{a,1}*\\bar{u}_{a,2}*\\bar{u}_{a,2}*\\bar{u}_{a,1}+\n",
      "\n"
     ]
    }
   ],
   "source": [
    "for op in operators('A1g', rep, oh):\n",
    "    print_vec(op, basis)\n",
    "    print()\n",
    "    "
   ]
  },
  {
   "cell_type": "code",
   "execution_count": 14,
   "metadata": {},
   "outputs": [
    {
     "name": "stdout",
     "output_type": "stream",
     "text": [
      "(1+0j)*\\bar{u}_{a,0}*\\bar{u}_{a,3}*\\bar{u}_{a,3}*\\bar{u}_{a,0}+(-2+0j)*\\bar{u}_{a,1}*\\bar{u}_{a,2}*\\bar{u}_{a,3}*\\bar{u}_{a,0}+(1+0j)*\\bar{u}_{a,1}*\\bar{u}_{a,2}*\\bar{u}_{a,2}*\\bar{u}_{a,1}+\n",
      "\n"
     ]
    }
   ],
   "source": [
    "for op in operators('A1g', rep, oh):\n",
    "    print_vec(op, basis)\n",
    "    print()"
   ]
  },
  {
   "cell_type": "code",
   "execution_count": 15,
   "metadata": {},
   "outputs": [
    {
     "name": "stdout",
     "output_type": "stream",
     "text": [
      "(1+0j)*\\bar{u}_{a,0}*\\bar{u}_{a,0}*\\bar{u}_{a,0}*\\bar{u}_{a,0}+(1+0j)*\\bar{u}_{a,1}*\\bar{u}_{a,1}*\\bar{u}_{a,1}*\\bar{u}_{a,1}+(1+0j)*\\bar{u}_{a,2}*\\bar{u}_{a,2}*\\bar{u}_{a,2}*\\bar{u}_{a,2}+(1+0j)*\\bar{u}_{a,3}*\\bar{u}_{a,3}*\\bar{u}_{a,3}*\\bar{u}_{a,3}\n",
      "\n",
      "(1+0j)*\\bar{u}_{a,0}*\\bar{u}_{a,0}*\\bar{u}_{a,2}*\\bar{u}_{a,0}+(1+0j)*\\bar{u}_{a,2}*\\bar{u}_{a,2}*\\bar{u}_{a,2}*\\bar{u}_{a,0}+(1+0j)*\\bar{u}_{a,1}*\\bar{u}_{a,1}*\\bar{u}_{a,3}*\\bar{u}_{a,1}+(1+0j)*\\bar{u}_{a,3}*\\bar{u}_{a,3}*\\bar{u}_{a,3}*\\bar{u}_{a,1}+\n",
      "\n",
      "(1+0j)*\\bar{u}_{a,0}*\\bar{u}_{a,2}*\\bar{u}_{a,2}*\\bar{u}_{a,0}+(1+0j)*\\bar{u}_{a,1}*\\bar{u}_{a,3}*\\bar{u}_{a,3}*\\bar{u}_{a,1}+\n",
      "\n",
      "-----------------------------\n",
      "(1+0j)*\\bar{u}_{a,0}*\\bar{u}_{a,1}*\\bar{u}_{a,1}*\\bar{u}_{a,0}+(1+0j)*\\bar{u}_{a,2}*\\bar{u}_{a,3}*\\bar{u}_{a,3}*\\bar{u}_{a,2}+\n",
      "\n",
      "(1+0j)*\\bar{u}_{a,0}*\\bar{u}_{a,1}*\\bar{u}_{a,3}*\\bar{u}_{a,0}+(1+0j)*\\bar{u}_{a,1}*\\bar{u}_{a,1}*\\bar{u}_{a,2}*\\bar{u}_{a,0}+(1+0j)*\\bar{u}_{a,2}*\\bar{u}_{a,3}*\\bar{u}_{a,3}*\\bar{u}_{a,0}+(1+0j)*\\bar{u}_{a,2}*\\bar{u}_{a,2}*\\bar{u}_{a,3}*\\bar{u}_{a,1}+\n",
      "\n",
      "(1+0j)*\\bar{u}_{a,0}*\\bar{u}_{a,3}*\\bar{u}_{a,3}*\\bar{u}_{a,0}+(4+0j)*\\bar{u}_{a,1}*\\bar{u}_{a,2}*\\bar{u}_{a,3}*\\bar{u}_{a,0}+(1+0j)*\\bar{u}_{a,1}*\\bar{u}_{a,2}*\\bar{u}_{a,2}*\\bar{u}_{a,1}+\n",
      "\n"
     ]
    }
   ],
   "source": [
    "for op in operators('Eg', rep, oh,row=0):\n",
    "    print_vec(op, basis)\n",
    "    print()\n",
    "print(\"-----------------------------\")\n",
    "for op in operators('Eg', rep, oh,row=1):\n",
    "    print_vec(op.round(2), basis)\n",
    "    print()"
   ]
  },
  {
   "cell_type": "code",
   "execution_count": 16,
   "metadata": {},
   "outputs": [],
   "source": [
    "def print_op_to_file(vec, basis, filename):\n",
    "  f = open(filename, \"w\")\n",
    "\n",
    "  v = copy.deepcopy(basis)\n",
    "  for i in range(len(vec)):\n",
    "    v[i].coef *= vec[i]\n",
    "\n",
    "  text=\"\"\n",
    "  for i in range(len(v)):\n",
    "    if not np.isclose(v[i].coef, 0):\n",
    "        line = \"\"\n",
    "        for q in v[i].quarks:\n",
    "            line += str(q.spin) + \" \"\n",
    "        line += \"{} {}\".format(v[i].coef.real, v[i].coef.imag)\n",
    "        #print(line)\n",
    "        line += \"\\n\"\n",
    "        text += line\n",
    "  f.write(text[:-1]) # delete the last newline character\n",
    "  f.close()"
   ]
  },
  {
   "cell_type": "code",
   "execution_count": 17,
   "metadata": {},
   "outputs": [],
   "source": [
    "import os"
   ]
  },
  {
   "cell_type": "code",
   "execution_count": 18,
   "metadata": {},
   "outputs": [],
   "source": [
    "irrep=\"A1g\"\n",
    "for i,op in enumerate(operators(irrep, rep, oh)):\n",
    "    print_op_to_file(op, basis, os.path.join(\"OPDATA\",\"baryon_uuuu_{}_{}.txt\".format(irrep,i)))\n",
    "\n",
    "irrep=\"Eg\"\n",
    "for row in [0,1]:\n",
    "    for i,op in enumerate(operators(irrep, rep, oh, row)):\n",
    "        print_op_to_file(op, basis, os.path.join(\"OPDATA\",\"baryon_uuuu_{}r{}_{}.txt\".format(irrep,row,i)))"
   ]
  },
  {
   "cell_type": "code",
   "execution_count": null,
   "metadata": {},
   "outputs": [],
   "source": []
  },
  {
   "cell_type": "code",
   "execution_count": null,
   "metadata": {},
   "outputs": [],
   "source": []
  },
  {
   "attachments": {},
   "cell_type": "markdown",
   "metadata": {},
   "source": [
    "## Testing rotations of ops"
   ]
  },
  {
   "cell_type": "code",
   "execution_count": 19,
   "metadata": {},
   "outputs": [],
   "source": [
    "tot = 0\n",
    "allOps=[]\n",
    "for irrep in oh.elements[0].irreps:\n",
    "    ops = operators(irrep, rep, oh)\n",
    "    for op in ops:\n",
    "        allOps.append(op)"
   ]
  },
  {
   "cell_type": "code",
   "execution_count": 20,
   "metadata": {},
   "outputs": [
    {
     "data": {
      "text/plain": [
       "array([ 0.00000000e+00+0.00000000e+00j,  0.00000000e+00+0.00000000e+00j,\n",
       "        0.00000000e+00+0.00000000e+00j,  0.00000000e+00+0.00000000e+00j,\n",
       "        0.00000000e+00+0.00000000e+00j,  0.00000000e+00+0.00000000e+00j,\n",
       "        0.00000000e+00+0.00000000e+00j,  0.00000000e+00+2.77555756e-17j,\n",
       "        0.00000000e+00+1.38777878e-17j,  1.00000000e+00+0.00000000e+00j,\n",
       "        0.00000000e+00+0.00000000e+00j,  0.00000000e+00+0.00000000e+00j,\n",
       "        0.00000000e+00+0.00000000e+00j,  2.22044605e-16-1.38777878e-17j,\n",
       "       -2.00000000e+00+5.55111512e-17j, -1.11022302e-16+1.38777878e-17j,\n",
       "        0.00000000e+00+0.00000000e+00j,  0.00000000e+00+0.00000000e+00j,\n",
       "        0.00000000e+00+0.00000000e+00j,  0.00000000e+00+0.00000000e+00j,\n",
       "        0.00000000e+00+0.00000000e+00j,  0.00000000e+00+0.00000000e+00j,\n",
       "        0.00000000e+00+0.00000000e+00j,  1.00000000e+00+0.00000000e+00j,\n",
       "        0.00000000e+00-1.38777878e-17j,  0.00000000e+00+2.77555756e-17j,\n",
       "        0.00000000e+00+0.00000000e+00j,  0.00000000e+00+0.00000000e+00j,\n",
       "        0.00000000e+00+0.00000000e+00j,  0.00000000e+00+0.00000000e+00j,\n",
       "        0.00000000e+00+0.00000000e+00j,  0.00000000e+00+0.00000000e+00j,\n",
       "        0.00000000e+00+0.00000000e+00j,  0.00000000e+00+0.00000000e+00j,\n",
       "        0.00000000e+00+0.00000000e+00j])"
      ]
     },
     "execution_count": 20,
     "metadata": {},
     "output_type": "execute_result"
    }
   ],
   "source": [
    "np.matmul(rep[3],allOps[0])"
   ]
  },
  {
   "cell_type": "code",
   "execution_count": 21,
   "metadata": {},
   "outputs": [
    {
     "data": {
      "text/plain": [
       "array([ 0.+0.j,  0.+0.j,  0.+0.j,  0.+0.j,  0.+0.j,  0.+0.j,  0.+0.j,\n",
       "        0.+0.j,  0.+0.j,  1.+0.j,  0.+0.j,  0.+0.j,  0.+0.j,  0.+0.j,\n",
       "       -2.+0.j,  0.+0.j,  0.+0.j,  0.+0.j,  0.+0.j,  0.+0.j,  0.+0.j,\n",
       "        0.+0.j,  0.+0.j,  1.+0.j,  0.+0.j,  0.+0.j,  0.+0.j,  0.+0.j,\n",
       "        0.+0.j,  0.+0.j,  0.+0.j,  0.+0.j,  0.+0.j,  0.+0.j,  0.+0.j])"
      ]
     },
     "execution_count": 21,
     "metadata": {},
     "output_type": "execute_result"
    }
   ],
   "source": [
    "allOps[0]"
   ]
  },
  {
   "cell_type": "code",
   "execution_count": null,
   "metadata": {},
   "outputs": [],
   "source": []
  }
 ],
 "metadata": {
  "kernelspec": {
   "display_name": "Python 3.9.7 ('LQCD')",
   "language": "python",
   "name": "python3"
  },
  "language_info": {
   "codemirror_mode": {
    "name": "ipython",
    "version": 3
   },
   "file_extension": ".py",
   "mimetype": "text/x-python",
   "name": "python",
   "nbconvert_exporter": "python",
   "pygments_lexer": "ipython3",
   "version": "3.10.6"
  },
  "orig_nbformat": 4,
  "vscode": {
   "interpreter": {
    "hash": "bc10d092fd53d999667fa6c0a0e497da5d6cd5236cea8e58c3ad41d37fd15ec4"
   }
  }
 },
 "nbformat": 4,
 "nbformat_minor": 2
}
